{
 "cells": [
  {
   "cell_type": "markdown",
   "id": "520fb103",
   "metadata": {},
   "source": [
    "## Random Password Generator:\n",
    "Build a program that generates random passwords with user-defined length and complexity (e.g., uppercase, lowercase, numbers, symbols)."
   ]
  },
  {
   "cell_type": "code",
   "execution_count": 3,
   "id": "0e982382",
   "metadata": {},
   "outputs": [],
   "source": [
    "#Here's a Python program for a random password generator that allows users to \n",
    "# specify the length and complexity of the password. We can customize the complexity \n",
    "# by including uppercase letters, lowercase letters, numbers, and symbols.\n",
    "# First, we import the necessary modules: `random` for generating random characters and \n",
    "# `string` for getting predefined character sets (e.g., lowercase letters, uppercase letters, digits, punctuation).\n",
    "\n",
    "import random\n",
    "import string"
   ]
  },
  {
   "cell_type": "code",
   "execution_count": 4,
   "id": "4e54ac14",
   "metadata": {},
   "outputs": [],
   "source": [
    "# We define a function called `generate_password` that takes several parameters:\n",
    "#    -`length`: The desired length of the password.\n",
    "#    - `use_lowercase`, `use_uppercase`, `use_numbers`, `use_symbols`: \n",
    "# Boolean flags indicating whether to include lowercase letters, uppercase letters, numbers, and symbols in the password.\n",
    "\n",
    "\n",
    "def generate_password(length, use_lowercase=True, use_uppercase=True, use_numbers=True, use_symbols=True):\n",
    "    characters = ''\n",
    "    if use_lowercase:\n",
    "        characters += string.ascii_lowercase\n",
    "    if use_uppercase:\n",
    "        characters += string.ascii_uppercase\n",
    "    if use_numbers:\n",
    "        characters += string.digits\n",
    "    if use_symbols:\n",
    "        characters += string.punctuation\n",
    "\n",
    "    if not characters:\n",
    "        print(\"Error: You must select at least one character type.\")\n",
    "        return\n",
    "\n",
    "    password = ''.join(random.choice(characters) for _ in range(length))\n",
    "    return password\n",
    "\n"
   ]
  },
  {
   "cell_type": "code",
   "execution_count": 5,
   "id": "8e76bf57",
   "metadata": {},
   "outputs": [],
   "source": [
    "# In the `main` function, we first collect user input for password length and character\n",
    "# type preferences using the `input` function.\n",
    "\n",
    "\n",
    "def main():\n",
    "    print(\"Random Password Generator\")\n",
    "    length = int(input(\"Enter the password length: \"))\n",
    "    use_lowercase = input(\"Include lowercase letters? (y/n): \").lower() == 'y'\n",
    "    use_uppercase = input(\"Include uppercase letters? (y/n): \").lower() == 'y'\n",
    "    use_numbers = input(\"Include numbers? (y/n): \").lower() == 'y'\n",
    "    use_symbols = input(\"Include symbols? (y/n): \").lower() == 'y'\n",
    "\n",
    "    password = generate_password(length, use_lowercase, use_uppercase, use_numbers, use_symbols)\n",
    "\n",
    "    if password:\n",
    "        print(\"Generated Password:\", password)\n",
    "    else:\n",
    "        print(\"No password was generated due to invalid options.\")"
   ]
  },
  {
   "cell_type": "code",
   "execution_count": 6,
   "id": "23e269c7",
   "metadata": {},
   "outputs": [
    {
     "name": "stdout",
     "output_type": "stream",
     "text": [
      "Random Password Generator\n",
      "Enter the password length: 5\n",
      "Include lowercase letters? (y/n): y\n",
      "Include uppercase letters? (y/n): n\n",
      "Include numbers? (y/n): n\n",
      "Include symbols? (y/n): y\n",
      "Generated Password: /}xv\"\n"
     ]
    }
   ],
   "source": [
    "if __name__ == \"__main__\":\n",
    "    main()\n",
    "\n",
    "\n",
    "# This program first asks for the desired password length and which character types\n",
    "# (lowercase, uppercase, numbers, symbols) to include in the password. \n",
    "# It then generates a random password based on the specified criteria and displays it."
   ]
  },
  {
   "cell_type": "code",
   "execution_count": null,
   "id": "ae2a2acb",
   "metadata": {},
   "outputs": [],
   "source": []
  }
 ],
 "metadata": {
  "kernelspec": {
   "display_name": "Python 3 (ipykernel)",
   "language": "python",
   "name": "python3"
  },
  "language_info": {
   "codemirror_mode": {
    "name": "ipython",
    "version": 3
   },
   "file_extension": ".py",
   "mimetype": "text/x-python",
   "name": "python",
   "nbconvert_exporter": "python",
   "pygments_lexer": "ipython3",
   "version": "3.9.7"
  }
 },
 "nbformat": 4,
 "nbformat_minor": 5
}
